{
 "cells": [
  {
   "cell_type": "markdown",
   "id": "ccfce9f4",
   "metadata": {},
   "source": [
    "### Key pair\n",
    "\n",
    "Given an array A[] and a number x, check for pair in A[] with sum as x (aka Two Sum)\n",
    "```\n",
    "Input: arr[] = {0, -1, 2, -3, 1}, x= -2\n",
    "Output: Pair with a given sum -2 is (-3, 1)\n",
    "Explanation:  If we calculate the sum of the output,1 + (-3) = -2\n",
    "\n",
    "Input: arr[] = {1, -2, 1, 0, 5}, x = 0\n",
    "Output: No valid pair exists for 0\n",
    "```"
   ]
  },
  {
   "cell_type": "code",
   "execution_count": 1,
   "id": "874c9e05",
   "metadata": {},
   "outputs": [],
   "source": [
    "input1  = [0, -1, 2, -3, 1]\n",
    "x1 = -2\n",
    "\n",
    "input2 = [1, -2, 1, 0, 5]\n",
    "x2 = 0"
   ]
  },
  {
   "cell_type": "code",
   "execution_count": 9,
   "id": "6571babf",
   "metadata": {},
   "outputs": [
    {
     "name": "stdout",
     "output_type": "stream",
     "text": [
      "Array: [1, -2, 1, 0, 5], target: 0\n",
      "Pair doesn't exists\n"
     ]
    }
   ],
   "source": [
    "# Create\n",
    "arr = input2\n",
    "target = x2\n",
    "\n",
    "pair_exists = 0\n",
    "print(f\"Array: {arr}, target: {target}\")\n",
    "\n",
    "for i, num1 in enumerate(arr):\n",
    "    num2 = target - num1\n",
    "    if num2 in (arr[0:i] + arr[i+1:len(arr)]):\n",
    "        print(f\"Pair exists: pair is ({num1}, {num2})\")\n",
    "        pair_exists = 1\n",
    "        break\n",
    "if pair_exists == 0:\n",
    "    print(\"Pair doesn't exists\")"
   ]
  },
  {
   "cell_type": "markdown",
   "id": "f1c0db39",
   "metadata": {},
   "source": [
    "### Top K Frequent Elements in Array\n",
    "Find K most occurring elements in the given Array\n",
    "\n",
    "```\n",
    "Input: arr[] = {3, 1, 4, 4, 5, 2, 6, 1}, K = 2\n",
    "Output: 4 1\n",
    "Explanation:\n",
    "Frequency of 4 = 2, Frequency of 1 = 2\n",
    "These two have the maximum frequency and 4 is larger than 1.\n",
    "\n",
    "Input: arr[] = {7, 10, 11, 5, 2, 5, 5, 7, 11, 8, 9}, K = 4\n",
    "Output: 5 11 7 10\n",
    "Explanation: \n",
    "Frequency of 5 = 3, Frequency of 11 = 2, Frequency of 7 = 2, Frequency of 10 = 1\n",
    "These four have the maximum frequency and 5 is largest among rest.\n",
    "```"
   ]
  },
  {
   "cell_type": "code",
   "execution_count": 10,
   "id": "25fc22df",
   "metadata": {},
   "outputs": [
    {
     "data": {
      "text/plain": [
       "(2, 4)"
      ]
     },
     "execution_count": 10,
     "metadata": {},
     "output_type": "execute_result"
    }
   ],
   "source": [
    "arr1, K1 = [3, 1, 4, 4, 5, 2, 6, 1], 2\n",
    "arr2, K2 = [7, 10, 11, 5, 2, 5, 5, 7, 11, 8, 9], 4\n",
    "\n",
    "K1, K2"
   ]
  },
  {
   "cell_type": "code",
   "execution_count": 23,
   "id": "8f0a9166",
   "metadata": {},
   "outputs": [
    {
     "name": "stdout",
     "output_type": "stream",
     "text": [
      "\n",
      "Original array: [7, 10, 11, 5, 2, 5, 5, 7, 11, 8, 9], \n",
      "\n",
      "Top 4 items: \n",
      "\n",
      "[(5, 3), (11, 2), (7, 2), (9, 1)]\n",
      "\n"
     ]
    }
   ],
   "source": [
    "arr = arr2\n",
    "K = K2\n",
    "\n",
    "freq = dict()\n",
    "for item in arr:\n",
    "    if freq.get(item) is None:\n",
    "        freq[item] = 1\n",
    "    else:\n",
    "        freq[item] += 1\n",
    "\n",
    "sorted_dict = sorted(freq.items(), key=lambda item: item[1])[::-1]\n",
    "\n",
    "result = sorted_dict[0:K]\n",
    "print(f\"\"\"\n",
    "Original array: {arr}, \\n\n",
    "Top {K} items: \\n\n",
    "{result}\n",
    "\"\"\")"
   ]
  },
  {
   "cell_type": "code",
   "execution_count": 32,
   "id": "40b545f1",
   "metadata": {},
   "outputs": [
    {
     "data": {
      "text/plain": [
       "[(4, 1), (1, 7), (2, 8), (3, 9)]"
      ]
     },
     "execution_count": 32,
     "metadata": {},
     "output_type": "execute_result"
    }
   ],
   "source": [
    "list1 = [(1, 7), (2, 8), (3, 9), (4, 1)]\n",
    "sorted(list1, key = lambda x: x[1])"
   ]
  },
  {
   "cell_type": "markdown",
   "id": "0030b15f",
   "metadata": {},
   "source": [
    "### Intersection of two arrays\n",
    "Find Union and Intersection of two unsorted arrays\n",
    "\n",
    "For example, if the input arrays are: \n",
    "```\n",
    "arr1[] = {7, 1, 5, 2, 3, 6} \n",
    "arr2[] = {3, 8, 6, 20, 7} \n",
    "Then your program should print Union as {1, 2, 3, 5, 6, 7, 8, 20} and Intersection as {3, 6, 7}. \n",
    "Note that the elements of union and intersection can be printed in any order.\n",
    "```"
   ]
  },
  {
   "cell_type": "code",
   "execution_count": 34,
   "id": "74242a7e",
   "metadata": {},
   "outputs": [
    {
     "name": "stdout",
     "output_type": "stream",
     "text": [
      "\n",
      "arr1 = [7, 1, 5, 2, 3, 6], \n",
      "\n",
      "arr2 = [3, 8, 6, 20, 7] \n",
      ".\n",
      "Union = [1, 2, 3, 5, 6, 7, 8, 20] \n",
      "\n",
      "Intersection = [7, 3, 6]\n",
      "\n"
     ]
    }
   ],
   "source": [
    "arr1 = [7, 1, 5, 2, 3, 6]\n",
    "arr2 = [3, 8, 6, 20, 7]\n",
    "\n",
    "uni = list(set(arr1 + arr2))\n",
    "inter = [num for num in arr1 if num in arr2]\n",
    "\n",
    "print(f\"\"\"\n",
    "arr1 = {arr1}, \\n\n",
    "arr2 = {arr2} \\n.\n",
    "Union = {uni} \\n\n",
    "Intersection = {inter}\n",
    "\"\"\")"
   ]
  },
  {
   "cell_type": "markdown",
   "id": "168fc1ea",
   "metadata": {},
   "source": [
    "### Array Pair Sum Divisibility Problem\n",
    "\n",
    "Check if an array can be divided into pairs whose sum is divisible by k\n",
    "\n",
    "```\n",
    "Input: arr[] = {9, 7, 5, 3}, \n",
    "k = 6 \n",
    "Output: True \n",
    "We can divide the array into (9, 3) and \n",
    "(7, 5). Sum of both of these pairs \n",
    "is a multiple of 6.\n",
    "\n",
    "Input: arr[] = {92, 75, 65, 48, 45, 35}, \n",
    "k = 10 \n",
    "Output: True \n",
    "We can divide the array into (92, 48), (75, 65). \n",
    "and (45, 35). The sum of all these pairs is a \n",
    "multiple of 10.\n",
    "\n",
    "Input: arr[] = {91, 74, 66, 48}, k = 10 \n",
    "Output: False\n",
    "```"
   ]
  },
  {
   "cell_type": "code",
   "execution_count": 35,
   "id": "476272f9",
   "metadata": {},
   "outputs": [
    {
     "data": {
      "text/plain": [
       "(6, 10, 10)"
      ]
     },
     "execution_count": 35,
     "metadata": {},
     "output_type": "execute_result"
    }
   ],
   "source": [
    "arr1, k1 = [9, 7, 5, 3], 6\n",
    "arr2, k2 = [92, 75, 65, 48, 45, 35], 10\n",
    "arr3, k3 = [91, 74, 66, 48], 10\n",
    "\n",
    "k1, k2, k3"
   ]
  },
  {
   "cell_type": "code",
   "execution_count": 38,
   "id": "6a528de6",
   "metadata": {},
   "outputs": [],
   "source": [
    "def is_array_pair_sum_divisible(arr, k):\n",
    "    flag = 1\n",
    "    for i, num in enumerate(arr):\n",
    "        rem1 = num % k\n",
    "        rem2 = k - rem1\n",
    "        \n",
    "        arr2 = arr[0:i] + arr[i+1:len(arr)]\n",
    "        rems_with_rest_array = [n%k for n in arr2]\n",
    "        \n",
    "        if rem2 not in rems_with_rest_array:\n",
    "            flag = 0\n",
    "            break\n",
    "    return flag"
   ]
  },
  {
   "cell_type": "code",
   "execution_count": 42,
   "id": "2e1e7b30",
   "metadata": {},
   "outputs": [
    {
     "name": "stdout",
     "output_type": "stream",
     "text": [
      "\n",
      "arr1 = [9, 7, 5, 3], k1 = 6, Pair sum divisible exists: 1 \n",
      "\n",
      "arr2 = [92, 75, 65, 48, 45, 35], k2 = 10, Pair sum divisible exists: 1 \n",
      "\n",
      "arr3 = [91, 74, 66, 48], k3 = 10, Pair sum divisible exists: 0 \n",
      "\n",
      "\n"
     ]
    }
   ],
   "source": [
    "print(f\"\"\"\n",
    "arr1 = {arr1}, k1 = {k1}, Pair sum divisible exists: {is_array_pair_sum_divisible(arr1, k1)} \\n\n",
    "arr2 = {arr2}, k2 = {k2}, Pair sum divisible exists: {is_array_pair_sum_divisible(arr2, k2)} \\n\n",
    "arr3 = {arr3}, k3 = {k3}, Pair sum divisible exists: {is_array_pair_sum_divisible(arr3, k3)} \\n\n",
    "\"\"\")\n"
   ]
  },
  {
   "cell_type": "markdown",
   "id": "94aad3b6",
   "metadata": {},
   "source": [
    "### Find a triplet that sum to a given value\n",
    "\n",
    "Given an array and a value, find if there is a triplet in array whose sum is equal to the given value. If there is such a triplet present in array, then print the triplet and return true. Else return false.\n",
    "\n",
    "```\n",
    "Input: array = {12, 3, 4, 1, 6, 9}, sum = 24; \n",
    "Output: 12, 3, 9 \n",
    "Explanation: There is a triplet (12, 3 and 9) present \n",
    "in the array whose sum is 24. \n",
    "Input: array = {1, 2, 3, 4, 5}, sum = 9 \n",
    "Output: 5, 3, 1 \n",
    "Explanation: There is a triplet (5, 3 and 1) present \n",
    "in the array whose sum is 9.\n",
    "```"
   ]
  },
  {
   "cell_type": "code",
   "execution_count": 53,
   "id": "3600d93a",
   "metadata": {},
   "outputs": [
    {
     "data": {
      "text/plain": [
       "(24, 9, 22)"
      ]
     },
     "execution_count": 53,
     "metadata": {},
     "output_type": "execute_result"
    }
   ],
   "source": [
    "arr1, sum1 = [12, 3, 4, 1, 6, 9], 24\n",
    "arr2, sum2 = [1, 2, 3, 4, 5], 9\n",
    "arr3, sum3 = [1, 4, 45, 6, 10, 8], 22\n",
    "sum1, sum2, sum3"
   ]
  },
  {
   "cell_type": "code",
   "execution_count": 54,
   "id": "7087276a",
   "metadata": {},
   "outputs": [
    {
     "name": "stdout",
     "output_type": "stream",
     "text": [
      "Triplet exists: 4, 10, 8\n"
     ]
    }
   ],
   "source": [
    "arr = arr3\n",
    "s = sum3\n",
    "flag = 0\n",
    "for i, num1 in enumerate(arr):\n",
    "    #num2 + num3 => s - num1\n",
    "    arr_sub = arr[:i] + arr[i+1:]\n",
    "    if flag:\n",
    "        break\n",
    "    for j, num2 in enumerate(arr_sub):\n",
    "        arr_sub_2 = arr_sub[:j] + arr_sub[j+1:]\n",
    "        target = s - num1 - num2\n",
    "        if target in arr_sub_2:\n",
    "            print(f\"Triplet exists: {num1}, {num2}, {target}\")\n",
    "            flag = 1\n",
    "            break"
   ]
  },
  {
   "cell_type": "markdown",
   "id": "db2d7f60",
   "metadata": {},
   "source": [
    "### Is sudoku valid?\n",
    "\n",
    "Check if given Sudoku solution is valid or not\n",
    "\n",
    "```\n",
    "Input: \n",
    "\n",
    "board[][] = {{7, 9, 2, 1, 5, 4, 3, 8, 6}, \n",
    "             {6, 4, 3, 8, 2, 7, 1, 5, 9},\n",
    "             {8, 5, 1, 3, 9, 6, 7, 2, 4},\n",
    "             {2, 6, 5, 9, 7, 3, 8, 4, 1},\n",
    "             {4, 8, 9, 5, 6, 1, 2, 7, 3},\n",
    "             {3, 1, 7, 4, 8, 2, 9, 6, 5},\n",
    "             {1, 3, 6, 7, 4, 8, 5, 9, 2},\n",
    "             {9, 7, 4, 2, 1, 5, 6, 3, 8},\n",
    "             {5, 2, 8, 6, 3, 9, 4, 1, 7}}\n",
    "Output: Valid\n",
    "\n",
    "Input: \n",
    "\n",
    "board[][] = {{5, 5, 5, 5, 5, 5, 5, 5, 5}, \n",
    "             {5, 5, 5, 5, 5, 5, 5, 5, 5},\n",
    "             {5, 5, 5, 5, 5, 5, 5, 5, 5},\n",
    "             {5, 5, 5, 5, 5, 5, 5, 5, 5},\n",
    "             {5, 5, 5, 5, 5, 5, 5, 5, 5},\n",
    "             {5, 5, 5, 5, 5, 5, 5, 5, 5},\n",
    "             {5, 5, 5, 5, 5, 5, 5, 5, 5},\n",
    "             {5, 5, 5, 5, 5, 5, 5, 5, 5},\n",
    "             {5, 5, 5, 5, 5, 5, 5, 5, 5}}\n",
    "Output: Not Valid \n",
    "```\n"
   ]
  },
  {
   "cell_type": "code",
   "execution_count": 64,
   "id": "9ac5859b",
   "metadata": {},
   "outputs": [
    {
     "data": {
      "text/plain": [
       "(array([[7, 9, 2, 1, 5, 4, 3, 8, 6],\n",
       "        [6, 4, 3, 8, 2, 7, 1, 5, 9],\n",
       "        [8, 5, 1, 3, 9, 6, 7, 2, 4],\n",
       "        [2, 6, 5, 9, 7, 3, 8, 4, 1],\n",
       "        [4, 8, 9, 5, 6, 1, 2, 7, 3],\n",
       "        [3, 1, 7, 4, 8, 2, 9, 6, 5],\n",
       "        [1, 3, 6, 7, 4, 8, 5, 9, 2],\n",
       "        [9, 7, 4, 2, 1, 5, 6, 3, 8],\n",
       "        [5, 2, 8, 6, 3, 9, 4, 1, 7]]),\n",
       " (9, 9))"
      ]
     },
     "execution_count": 64,
     "metadata": {},
     "output_type": "execute_result"
    }
   ],
   "source": [
    "arr1 = [\n",
    "    [7, 9, 2, 1, 5, 4, 3, 8, 6],\n",
    "    [6, 4, 3, 8, 2, 7, 1, 5, 9],\n",
    "    [8, 5, 1, 3, 9, 6, 7, 2, 4],\n",
    "    [2, 6, 5, 9, 7, 3, 8, 4, 1],\n",
    "    [4, 8, 9, 5, 6, 1, 2, 7, 3],\n",
    "    [3, 1, 7, 4, 8, 2, 9, 6, 5],\n",
    "    [1, 3, 6, 7, 4, 8, 5, 9, 2],\n",
    "    [9, 7, 4, 2, 1, 5, 6, 3, 8],\n",
    "    [5, 2, 8, 6, 3, 9, 4, 1, 7]\n",
    "]\n",
    "\n",
    "arr2 = np.ones((9, 9))*5\n",
    "\n",
    "import numpy as np\n",
    "arr1 = np.array(arr1)\n",
    "arr1, arr1.shape"
   ]
  },
  {
   "cell_type": "code",
   "execution_count": 65,
   "id": "f56d2fb1",
   "metadata": {},
   "outputs": [
    {
     "name": "stdout",
     "output_type": "stream",
     "text": [
      "Sudoku is valid: 0\n"
     ]
    }
   ],
   "source": [
    "# Check for rows\n",
    "valid = 1\n",
    "for i in range(arr2.shape[0]):\n",
    "    row = arr2[i,:]\n",
    "    row = set(row)\n",
    "    if (len(row) == 9 and min(row) == 1 and max(row) == 9):\n",
    "        valid = 1\n",
    "    else:\n",
    "        valid = 0\n",
    "        break\n",
    "\n",
    "# Check for columns:\n",
    "if valid:\n",
    "    for i in range(arr2.shape[1]):\n",
    "        col = arr2[:,i]\n",
    "        col = set(row)\n",
    "        if (len(col) == 9 and min(col) == 1 and max(col) == 9):\n",
    "            valid = 1\n",
    "        else:\n",
    "            valid = 0\n",
    "            break\n",
    "\n",
    "# Check for submatrix\n",
    "if valid:\n",
    "    for i in range(0, arr2.shape[0], 3):\n",
    "        for j in range(0, arr2.shape[1], 3):\n",
    "            start = i, j\n",
    "            end = i+3, j+3\n",
    "            submatrix = arr2[i:i+3, j:j+3].ravel()\n",
    "            if (len(submatrix) == 9 and min(submatrix) == 1 and max(submatrix) == 9):\n",
    "                valid = 1\n",
    "            else:\n",
    "                valid = 0\n",
    "                break\n",
    "\n",
    "print(f\"Sudoku is valid: {valid}\")"
   ]
  },
  {
   "cell_type": "markdown",
   "id": "69cced68",
   "metadata": {},
   "source": [
    "### Print Anagrams Together\n",
    "Given a sequence of words, print all anagrams together.\n",
    "\n",
    "For example, if the given array is `{“cat”, “dog”, “tac”, “god”, “act”}`, then output may be `“cat tac act dog god”`."
   ]
  },
  {
   "cell_type": "code",
   "execution_count": 66,
   "id": "1a7af6f4",
   "metadata": {},
   "outputs": [
    {
     "data": {
      "text/plain": [
       "['cat', 'dog', 'tac', 'god', 'act']"
      ]
     },
     "execution_count": 66,
     "metadata": {},
     "output_type": "execute_result"
    }
   ],
   "source": [
    "seq = ['cat', 'dog', 'tac', 'god', 'act']\n",
    "\n",
    "seq"
   ]
  },
  {
   "cell_type": "code",
   "execution_count": 74,
   "id": "0b435d04",
   "metadata": {},
   "outputs": [
    {
     "data": {
      "text/plain": [
       "([2, 0, 19], [19, 0, 2])"
      ]
     },
     "execution_count": 74,
     "metadata": {},
     "output_type": "execute_result"
    }
   ],
   "source": [
    "[ord(char)-ord('a') for char in seq[0]], [ord(char)-ord('a') for char in seq[2]]"
   ]
  },
  {
   "cell_type": "markdown",
   "id": "c8f36e7c",
   "metadata": {},
   "source": [
    "a = 2^0\n",
    "b = 2^1\n",
    "c = 2^2\n",
    "\n",
    "z = 2^26\n"
   ]
  },
  {
   "cell_type": "code",
   "execution_count": 75,
   "id": "3966ac20",
   "metadata": {},
   "outputs": [
    {
     "data": {
      "text/plain": [
       "[4, 1, 524288]"
      ]
     },
     "execution_count": 75,
     "metadata": {},
     "output_type": "execute_result"
    }
   ],
   "source": [
    "[pow(2, ord(char)-ord('a')) for char in seq[0]]"
   ]
  },
  {
   "cell_type": "code",
   "execution_count": 76,
   "id": "0be3cc16",
   "metadata": {},
   "outputs": [],
   "source": [
    "def get_hash_key(in_str):\n",
    "    ascii_from_a = [ord(char)-ord('a') for char in in_str]\n",
    "    pow_2 = [pow(2, num) for num in ascii_from_a]\n",
    "    return sum(pow_2)"
   ]
  },
  {
   "cell_type": "code",
   "execution_count": 79,
   "id": "5e09ffec",
   "metadata": {},
   "outputs": [
    {
     "data": {
      "text/plain": [
       "524293"
      ]
     },
     "execution_count": 79,
     "metadata": {},
     "output_type": "execute_result"
    }
   ],
   "source": [
    "get_hash_key(seq[2])"
   ]
  },
  {
   "cell_type": "code",
   "execution_count": 81,
   "id": "9040efd4",
   "metadata": {},
   "outputs": [],
   "source": [
    "hashed_words = dict()\n",
    "for word in seq:\n",
    "    hash_key = get_hash_key(word)\n",
    "    if hashed_words.get(hash_key) is None:\n",
    "        hashed_words[hash_key] = []\n",
    "        hashed_words[hash_key].append(word)\n",
    "    else:\n",
    "        hashed_words[hash_key].append(word)"
   ]
  },
  {
   "cell_type": "code",
   "execution_count": 85,
   "id": "bfe68122",
   "metadata": {},
   "outputs": [
    {
     "name": "stdout",
     "output_type": "stream",
     "text": [
      "\n",
      "Seq of words: ['cat', 'dog', 'tac', 'god', 'act']\n",
      "\n",
      "Anagrams: \n",
      "[['cat', 'tac', 'act'], ['dog', 'god']]\n",
      "\n"
     ]
    }
   ],
   "source": [
    "print(f\"\"\"\n",
    "Seq of words: {seq}\\n\n",
    "Anagrams: \n",
    "{list(hashed_words.values())}\n",
    "\"\"\")"
   ]
  },
  {
   "cell_type": "code",
   "execution_count": null,
   "id": "69edec30",
   "metadata": {},
   "outputs": [],
   "source": []
  }
 ],
 "metadata": {
  "kernelspec": {
   "display_name": "Python 3 (ipykernel)",
   "language": "python",
   "name": "python3"
  },
  "language_info": {
   "codemirror_mode": {
    "name": "ipython",
    "version": 3
   },
   "file_extension": ".py",
   "mimetype": "text/x-python",
   "name": "python",
   "nbconvert_exporter": "python",
   "pygments_lexer": "ipython3",
   "version": "3.9.12"
  }
 },
 "nbformat": 4,
 "nbformat_minor": 5
}
