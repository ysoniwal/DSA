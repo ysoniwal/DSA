{
 "cells": [
  {
   "cell_type": "markdown",
   "id": "13c99325",
   "metadata": {},
   "source": [
    "### Array rotation\n",
    "```\n",
    "Input: \n",
    "arr[] = {1, 2, 3, 4, 5, 6, 7}, d = 2\n",
    "Output: 3 4 5 6 7 1 2\n",
    "\n",
    "Input: arr[] = {3, 4, 5, 6, 7, 1, 2}, d=2\n",
    "Output: 5 6 7 1 2 3 4\n",
    "```"
   ]
  },
  {
   "cell_type": "code",
   "execution_count": 3,
   "id": "b877b0f6",
   "metadata": {},
   "outputs": [
    {
     "data": {
      "text/plain": [
       "[5, 6, 7, 1, 2, 3, 4]"
      ]
     },
     "execution_count": 3,
     "metadata": {},
     "output_type": "execute_result"
    }
   ],
   "source": [
    "arr, d = [3, 4, 5, 6, 7, 1, 2], 2\n",
    "arr[d:] + arr[:d]"
   ]
  },
  {
   "cell_type": "markdown",
   "id": "bd1ffb3e",
   "metadata": {},
   "source": [
    "### Majority Element\n",
    "Find the majority element in the array. A majority element in an array A[] of size n is an element that appears more than n/2 times (and hence there is at most one such element). \n",
    "\n",
    "```\n",
    "Input : {3, 3, 4, 2, 4, 4, 2, 4, 4}\n",
    "Output : 4\n",
    "Explanation: The frequency of 4 is 5 which is greater than the half of the size of the array size. \n",
    "\n",
    "Input : {3, 3, 4, 2, 4, 4, 2, 4}\n",
    "Output : No Majority Element\n",
    "Explanation: There is no element whose frequency is greater than the half of the size of the array size.\n",
    "\n",
    "```"
   ]
  },
  {
   "cell_type": "code",
   "execution_count": 6,
   "id": "12e42795",
   "metadata": {},
   "outputs": [
    {
     "data": {
      "text/plain": [
       "[]"
      ]
     },
     "execution_count": 6,
     "metadata": {},
     "output_type": "execute_result"
    }
   ],
   "source": [
    "# Create dict\n",
    "majority = dict()\n",
    "arr = [3, 3, 4, 2, 4, 4, 2, 4]\n",
    "for num in arr:\n",
    "    if majority.get(num) is None:\n",
    "        majority[num] = 1\n",
    "    else:\n",
    "        majority[num] += 1\n",
    "l = len(arr)\n",
    "\n",
    "is_majority = [1 for item in majority.values() if item > (l / 2)]\n",
    "is_majority"
   ]
  },
  {
   "cell_type": "markdown",
   "id": "f3432454",
   "metadata": {},
   "source": [
    "### Add one\n",
    "\n",
    "Adding one to number represented as array of digits\n",
    "\n",
    "```\n",
    "Input : [1, 2, 4]\n",
    "Output : [1, 2, 5]\n",
    "Input : [9, 9, 9]\n",
    "Output : [1, 0, 0, 0]\n",
    "```"
   ]
  },
  {
   "cell_type": "code",
   "execution_count": 29,
   "id": "2aae544a",
   "metadata": {},
   "outputs": [
    {
     "ename": "IndexError",
     "evalue": "list index out of range",
     "output_type": "error",
     "traceback": [
      "\u001b[0;31m---------------------------------------------------------------------------\u001b[0m",
      "\u001b[0;31mIndexError\u001b[0m                                Traceback (most recent call last)",
      "Input \u001b[0;32mIn [29]\u001b[0m, in \u001b[0;36m<cell line: 6>\u001b[0;34m()\u001b[0m\n\u001b[1;32m     21\u001b[0m \u001b[38;5;28;01mwhile\u001b[39;00m(s \u001b[38;5;241m==\u001b[39m \u001b[38;5;241m10\u001b[39m):\n\u001b[1;32m     22\u001b[0m     out[j] \u001b[38;5;241m=\u001b[39m \u001b[38;5;241m0\u001b[39m\n\u001b[0;32m---> 23\u001b[0m     s \u001b[38;5;241m=\u001b[39m \u001b[43mnum\u001b[49m\u001b[43m[\u001b[49m\u001b[43mi\u001b[49m\u001b[43m]\u001b[49m \u001b[38;5;241m+\u001b[39m \u001b[38;5;241m1\u001b[39m\n\u001b[1;32m     24\u001b[0m     i \u001b[38;5;241m-\u001b[39m\u001b[38;5;241m=\u001b[39m \u001b[38;5;241m1\u001b[39m\n\u001b[1;32m     25\u001b[0m     j \u001b[38;5;241m-\u001b[39m\u001b[38;5;241m=\u001b[39m \u001b[38;5;241m1\u001b[39m\n",
      "\u001b[0;31mIndexError\u001b[0m: list index out of range"
     ]
    }
   ],
   "source": [
    "num = [9, 9, 9] \n",
    "out = [0]*(len(num)+1)\n",
    "\n",
    "s = num[-1] + 1\n",
    "\n",
    "if s != 10:\n",
    "    j = len(out) - 1\n",
    "    out[j] = s\n",
    "    j -= 1\n",
    "    for i in np.arange(len(num)-1)[::-1]:\n",
    "        out[j] = num[i]\n",
    "        j -= 1\n",
    "        \n",
    "else:\n",
    "    j = len(out) - 1\n",
    "    i = len(num) - 1\n",
    "    out[j] = 0\n",
    "    j -= 1\n",
    "    i -= 1\n",
    "    s = num[i] + 1\n",
    "    while(s == 10):\n",
    "        out[j] = 0\n",
    "        s = num[i] + 1\n",
    "        i -= 1\n",
    "        j -= 1\n",
    "        \n",
    "    \n",
    "print(out)\n"
   ]
  },
  {
   "cell_type": "code",
   "execution_count": 18,
   "id": "e3ee7cf3",
   "metadata": {},
   "outputs": [
    {
     "data": {
      "text/plain": [
       "[0, 0, 0, 0]"
      ]
     },
     "execution_count": 18,
     "metadata": {},
     "output_type": "execute_result"
    }
   ],
   "source": [
    "out = [0]*(len(num)+1)\n",
    "out"
   ]
  },
  {
   "cell_type": "code",
   "execution_count": null,
   "id": "c7fd35ca",
   "metadata": {},
   "outputs": [],
   "source": [
    "197 + 1 = 198\n",
    "199 + 1 = 200\n",
    "190 + 1 = 191"
   ]
  },
  {
   "cell_type": "code",
   "execution_count": null,
   "id": "92f8e4cf",
   "metadata": {},
   "outputs": [],
   "source": []
  },
  {
   "cell_type": "code",
   "execution_count": null,
   "id": "4689393c",
   "metadata": {},
   "outputs": [],
   "source": []
  },
  {
   "cell_type": "code",
   "execution_count": null,
   "id": "6aafd620",
   "metadata": {},
   "outputs": [],
   "source": []
  },
  {
   "cell_type": "markdown",
   "id": "43743168",
   "metadata": {},
   "source": [
    "### Minimum number of jumps to reach end\n",
    "\n",
    "```\n",
    "Input: arr[] = {1, 3, 5, 8, 9, 2, 6, 7, 6, 8, 9}\n",
    "Output: 3 (1-> 3 -> 9 -> 9)\n",
    "Explanation: Jump from 1st element \n",
    "to 2nd element as there is only 1 step, \n",
    "now there are three options 5, 8 or 9. \n",
    "If 8 or 9 is chosen then the end node 9 \n",
    "can be reached. So 3 jumps are made.\n",
    "\n",
    "Input:  arr[] = {1, 1, 1, 1, 1, 1, 1, 1, 1, 1, 1}\n",
    "Output: 10\n",
    "Explanation: In every step a jump \n",
    "is needed so the count of jumps is 10.\n",
    "```"
   ]
  },
  {
   "cell_type": "markdown",
   "id": "2debf223",
   "metadata": {},
   "source": [
    "```\n",
    "1 -> 1\n",
    "3 -> 1, 2, 3 -> reach 5, reach 8, reach 9\n",
    "5 -> reach 8 or reach 9 or reach 2 or reach 6 or reach 7\n",
    "8 -> reach 9 or reach 2 or reach 6 or reach 7 or reach 6 or reach 8 or reach 9, ...\n",
    "```"
   ]
  },
  {
   "cell_type": "code",
   "execution_count": 40,
   "id": "38114318",
   "metadata": {},
   "outputs": [],
   "source": [
    "global STEPS"
   ]
  },
  {
   "cell_type": "code",
   "execution_count": 56,
   "id": "a32fb4bb",
   "metadata": {},
   "outputs": [],
   "source": [
    "def is_possible_to_reach_end(num, index, max_size, arr, steps):\n",
    "    \"\"\"\n",
    "    Args:\n",
    "        num = current number in the array\n",
    "        index = index of current number in the array\n",
    "        max_size = length of the array\n",
    "    Returns:\n",
    "        bool: is it possible to reach the end the array \n",
    "    \"\"\"\n",
    "    \n",
    "    for i in range(num):\n",
    "        if index + i + 1 == max_size:\n",
    "            steps = steps + 1\n",
    "            return 1\n",
    "        else:\n",
    "            steps = steps + 1\n",
    "            return is_possible_to_reach_end(arr[index + i + 1], index + i + 1, max_size, arr, steps)\n",
    "    "
   ]
  },
  {
   "cell_type": "code",
   "execution_count": 57,
   "id": "37f5c9f6",
   "metadata": {},
   "outputs": [
    {
     "data": {
      "text/plain": [
       "(1, 0)"
      ]
     },
     "execution_count": 57,
     "metadata": {},
     "output_type": "execute_result"
    }
   ],
   "source": [
    "arr = [1, 3, 5, 8, 9, 2, 6, 7, 6, 8, 9]\n",
    "\n",
    "steps = 0\n",
    "\n",
    "is_possible_to_reach_end(1, 0, len(arr), arr, steps), steps"
   ]
  },
  {
   "cell_type": "code",
   "execution_count": null,
   "id": "86682a68",
   "metadata": {},
   "outputs": [],
   "source": []
  }
 ],
 "metadata": {
  "kernelspec": {
   "display_name": "Python 3 (ipykernel)",
   "language": "python",
   "name": "python3"
  },
  "language_info": {
   "codemirror_mode": {
    "name": "ipython",
    "version": 3
   },
   "file_extension": ".py",
   "mimetype": "text/x-python",
   "name": "python",
   "nbconvert_exporter": "python",
   "pygments_lexer": "ipython3",
   "version": "3.9.12"
  }
 },
 "nbformat": 4,
 "nbformat_minor": 5
}
