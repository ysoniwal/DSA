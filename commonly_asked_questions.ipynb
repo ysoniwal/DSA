{
 "cells": [
  {
   "cell_type": "code",
   "execution_count": 2,
   "id": "749eaa03",
   "metadata": {},
   "outputs": [],
   "source": [
    "# Topics to cover -> Can remove some from last\n",
    "# Math\n",
    "# Array\n",
    "# Searching\n",
    "# Sorting\n",
    "# Matrix\n",
    "# String\n",
    "# Hashing\n",
    "# Bit Masking\n",
    "# Linked List\n",
    "# Stack\n",
    "# Queue\n",
    "# Heap\n",
    "# Binary Tree\n",
    "# BST\n",
    "# Graph\n",
    "# Recursion"
   ]
  },
  {
   "cell_type": "code",
   "execution_count": 1,
   "id": "2c0013ec",
   "metadata": {},
   "outputs": [],
   "source": [
    "import numpy as np"
   ]
  },
  {
   "cell_type": "markdown",
   "id": "2fe7a6b8",
   "metadata": {},
   "source": [
    "### Trailing zeros"
   ]
  },
  {
   "cell_type": "code",
   "execution_count": null,
   "id": "875a2080",
   "metadata": {},
   "outputs": [],
   "source": []
  },
  {
   "cell_type": "code",
   "execution_count": null,
   "id": "593d0721",
   "metadata": {},
   "outputs": [],
   "source": [
    "# input = N\n",
    "# output = number of trailing zeros in factorial\n",
    "\n",
    "# logic: From 1 to N -> count number ending with 0 and\n",
    "# count "
   ]
  },
  {
   "cell_type": "code",
   "execution_count": 3,
   "id": "4578601b",
   "metadata": {},
   "outputs": [],
   "source": [
    "def is_prime(n):\n",
    "    # return 1 if the number is prime\n",
    "    # return 0 if the number if not prime\n",
    "    \n",
    "    if n == 1:\n",
    "        return 1\n",
    "    count = 0\n",
    "    for i in range(1, n+1): # loop over 1 to n (for n = 3 -> 1,2,3) \n",
    "        if (n % i == 0):\n",
    "            count += 1\n",
    "    if count >= 3:\n",
    "        return 0\n",
    "    else: \n",
    "        return 1"
   ]
  },
  {
   "cell_type": "code",
   "execution_count": 8,
   "id": "913ae1ab",
   "metadata": {},
   "outputs": [
    {
     "data": {
      "text/plain": [
       "(0, 1, 0, 1, 0, 0, 0, 1)"
      ]
     },
     "execution_count": 8,
     "metadata": {},
     "output_type": "execute_result"
    }
   ],
   "source": [
    "is_prime(4), is_prime(5), is_prime(6), is_prime(7), is_prime(8), is_prime(9), is_prime(10), is_prime(11)"
   ]
  },
  {
   "cell_type": "code",
   "execution_count": 10,
   "id": "a9fa6386",
   "metadata": {},
   "outputs": [
    {
     "data": {
      "text/plain": [
       "(7, 7, 11, 13)"
      ]
     },
     "execution_count": 10,
     "metadata": {},
     "output_type": "execute_result"
    }
   ],
   "source": [
    "def get_next_prime_number(n):\n",
    "    num = n+1\n",
    "    while (not is_prime(num)):\n",
    "        num += 1\n",
    "    return num\n",
    "\n",
    "get_next_prime_number(5), get_next_prime_number(6), get_next_prime_number(10), get_next_prime_number(12)"
   ]
  },
  {
   "cell_type": "code",
   "execution_count": 25,
   "id": "1dac3e0e",
   "metadata": {},
   "outputs": [],
   "source": [
    "# 36 = 2*2*3*3\n",
    "# 35 = 5*7\n",
    "\n",
    "# 36/2 -> rem(0) => add 2 to prime factors -> num = num/2 \n",
    "# divisible by num -> 35/2 - rem(1) -> 35/3 - rem(2) -> 35/5 - rem(0) => add 5 to prime_factors -> num = num / 5 .. num = num / 7 --> num == 1: stop\n",
    "\n",
    "def get_prime_factors(n):\n",
    "    prime_factors = []\n",
    "    \n",
    "    prime_num = 2\n",
    "    \n",
    "    while(n != 1):\n",
    "        rem = n % prime_num\n",
    "        while(rem != 0):\n",
    "            prime_num = get_next_prime_number(prime_num)\n",
    "            rem = n % prime_num\n",
    "        n = n / prime_num\n",
    "        prime_factors.append(prime_num)\n",
    "    \n",
    "    return prime_factors\n",
    "        "
   ]
  },
  {
   "cell_type": "code",
   "execution_count": 34,
   "id": "a96f325f",
   "metadata": {},
   "outputs": [],
   "source": [
    "def count_trailing_zeros(n):\n",
    "    all_prime_factors = []\n",
    "    for i in range(1, n+1):\n",
    "        pf = get_prime_factors(i)\n",
    "        for p in pf:\n",
    "            all_prime_factors.append(p)\n",
    "    return all_prime_factors"
   ]
  },
  {
   "cell_type": "code",
   "execution_count": 43,
   "id": "84e4f587",
   "metadata": {},
   "outputs": [
    {
     "data": {
      "text/plain": [
       "24"
      ]
     },
     "execution_count": 43,
     "metadata": {},
     "output_type": "execute_result"
    }
   ],
   "source": [
    "all_prime_factors = count_trailing_zeros(100)\n",
    "trailing_zeros = min(all_prime_factors.count(2), all_prime_factors.count(5))\n",
    "trailing_zeros"
   ]
  },
  {
   "cell_type": "code",
   "execution_count": null,
   "id": "6db4a2b3",
   "metadata": {},
   "outputs": [],
   "source": []
  },
  {
   "cell_type": "code",
   "execution_count": null,
   "id": "2b14e711",
   "metadata": {},
   "outputs": [],
   "source": []
  },
  {
   "cell_type": "code",
   "execution_count": null,
   "id": "152b8e3f",
   "metadata": {},
   "outputs": [],
   "source": []
  },
  {
   "cell_type": "markdown",
   "id": "2b534b79",
   "metadata": {},
   "source": [
    "### Convert recurring seq of num to a single num\n",
    "1. eg: 272727 = 27\n",
    "2. eg: 151151151 = 151\n",
    "3. eg: 396396396396 = 396\n",
    "4. eg: 1111222211112222 = 11112222 \n",
    "\n",
    "key = size\n",
    "value = longest seq of size = key\n",
    "\n",
    "1: 1, count = 1\n",
    "2: 11, count = 1\n",
    "3: 111, count = 1\n",
    "4: 1111, count = 1\n",
    "5: 11112, count = 1\n",
    "6: 111122, count = 1\n",
    "7: 1111222, count = 1\n",
    "8: 11112222, count = 1 + 1 + 1 + 1 + 1 + 1\n",
    "9: 111122221, count = 1 + 1 + 1 + 1 + 1\n",
    "10: 1111222211, count 1 + 1 + 1 + 1\n",
    "11: 11112222111, count = 1 + 1 + 1\n",
    "12: 111122221111, count = 1 + 1\n",
    "13: 1111222211112, count = 1\n",
    "\n",
    "length, seq, total_counts"
   ]
  },
  {
   "cell_type": "code",
   "execution_count": 67,
   "id": "492f53cf",
   "metadata": {},
   "outputs": [],
   "source": [
    "def get_longest_rec_seq(seq):\n",
    "    all_sequenses = []\n",
    "    for j in range(1, len(seq)+1):\n",
    "        for i in range(len(seq)-j+1):\n",
    "            cur_seq = seq[i:i+j]\n",
    "            size_cur_seq = len(cur_seq)\n",
    "            occurances = seq.count(cur_seq)\n",
    "            all_sequenses.append((cur_seq, size_cur_seq, occurances))\n",
    "    return all_sequenses"
   ]
  },
  {
   "cell_type": "code",
   "execution_count": 74,
   "id": "3fe65db4",
   "metadata": {},
   "outputs": [
    {
     "data": {
      "text/plain": [
       "[('1', 1, 4),\n",
       " ('1', 1, 4),\n",
       " ('1', 1, 4),\n",
       " ('1', 1, 4),\n",
       " ('2', 1, 4),\n",
       " ('2', 1, 4),\n",
       " ('2', 1, 4),\n",
       " ('2', 1, 4),\n",
       " ('11', 2, 2),\n",
       " ('11', 2, 2),\n",
       " ('11', 2, 2),\n",
       " ('12', 2, 1),\n",
       " ('22', 2, 2),\n",
       " ('22', 2, 2),\n",
       " ('22', 2, 2),\n",
       " ('111', 3, 1),\n",
       " ('111', 3, 1),\n",
       " ('112', 3, 1),\n",
       " ('122', 3, 1),\n",
       " ('222', 3, 1),\n",
       " ('222', 3, 1),\n",
       " ('1111', 4, 1),\n",
       " ('1112', 4, 1),\n",
       " ('1122', 4, 1),\n",
       " ('1222', 4, 1),\n",
       " ('2222', 4, 1),\n",
       " ('11112', 5, 1),\n",
       " ('11122', 5, 1),\n",
       " ('11222', 5, 1),\n",
       " ('12222', 5, 1),\n",
       " ('111122', 6, 1),\n",
       " ('111222', 6, 1),\n",
       " ('112222', 6, 1),\n",
       " ('1111222', 7, 1),\n",
       " ('1112222', 7, 1),\n",
       " ('11112222', 8, 1)]"
      ]
     },
     "execution_count": 74,
     "metadata": {},
     "output_type": "execute_result"
    }
   ],
   "source": [
    "all_sequences = get_longest_rec_seq(\"11112222\")\n",
    "all_sequences"
   ]
  },
  {
   "cell_type": "code",
   "execution_count": 73,
   "id": "535cfcfb",
   "metadata": {},
   "outputs": [
    {
     "data": {
      "text/plain": [
       "('1', 1, 4)"
      ]
     },
     "execution_count": 73,
     "metadata": {},
     "output_type": "execute_result"
    }
   ],
   "source": [
    "from operator import itemgetter\n",
    "max(all_sequences, key = itemgetter(2))"
   ]
  },
  {
   "cell_type": "code",
   "execution_count": null,
   "id": "0b07a21c",
   "metadata": {},
   "outputs": [],
   "source": []
  }
 ],
 "metadata": {
  "kernelspec": {
   "display_name": "Python 3 (ipykernel)",
   "language": "python",
   "name": "python3"
  },
  "language_info": {
   "codemirror_mode": {
    "name": "ipython",
    "version": 3
   },
   "file_extension": ".py",
   "mimetype": "text/x-python",
   "name": "python",
   "nbconvert_exporter": "python",
   "pygments_lexer": "ipython3",
   "version": "3.9.12"
  }
 },
 "nbformat": 4,
 "nbformat_minor": 5
}
