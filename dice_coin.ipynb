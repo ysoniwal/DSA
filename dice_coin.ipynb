{
 "cells": [
  {
   "cell_type": "markdown",
   "id": "a32aaf5d",
   "metadata": {},
   "source": [
    "### Make a fair coin from a biased coin\n",
    "You are given a function foo() that represents a biased coin. When foo() is called, it returns 0 with 60% probability, and 1 with 40% probability. Write a new function that returns 0 and 1 with a 50% probability each. Your function should use only foo(), no other library method."
   ]
  },
  {
   "cell_type": "code",
   "execution_count": 1,
   "id": "e9f753ea",
   "metadata": {},
   "outputs": [],
   "source": [
    "import random\n",
    "def foo():\n",
    "    n = random.uniform(0, 1)\n",
    "    if n < 0.6:\n",
    "        return 1\n",
    "    else:\n",
    "        return 0"
   ]
  },
  {
   "cell_type": "code",
   "execution_count": 4,
   "id": "c7df7ae9",
   "metadata": {},
   "outputs": [
    {
     "name": "stdout",
     "output_type": "stream",
     "text": [
      "0\n",
      "1\n",
      "0\n",
      "0\n",
      "0\n",
      "0\n",
      "1\n",
      "0\n",
      "1\n",
      "0\n"
     ]
    }
   ],
   "source": [
    "for _ in range(10):\n",
    "    print(foo())"
   ]
  },
  {
   "cell_type": "markdown",
   "id": "182217ca",
   "metadata": {},
   "source": [
    "```\n",
    "two rolls:\n",
    "\n",
    "HH -> 0.36 -> Sum = 2\n",
    "HT -> 0.24 -> Sum = 1\n",
    "TH -> 0.24 -> Sum = 1\n",
    "TT -> 0.16 -> Sum = 0\n",
    "\n",
    "Whenever HT -> we call H, TH -> we call T\n",
    "```"
   ]
  },
  {
   "cell_type": "code",
   "execution_count": 6,
   "id": "88927423",
   "metadata": {},
   "outputs": [],
   "source": [
    "def generate_unbiased_coin(n_times = 10):\n",
    "    outputs = []\n",
    "    for _ in range(n_times):\n",
    "        a, b = foo(), foo()\n",
    "        if a == 1 and b == 0:\n",
    "            outputs.append(1)\n",
    "        elif a == 0 and b == 1:\n",
    "            outputs.append(0)\n",
    "    return outputs"
   ]
  },
  {
   "cell_type": "code",
   "execution_count": 15,
   "id": "91949aa3",
   "metadata": {},
   "outputs": [
    {
     "name": "stdout",
     "output_type": "stream",
     "text": [
      "(0.3333333333333333, 0.6666666666666666)\n",
      "(0.45652173913043476, 0.5434782608695652)\n",
      "(0.48532289628180036, 0.5146771037181996)\n",
      "(0.4843124868393346, 0.5156875131606654)\n",
      "(0.49549380788843794, 0.5045061921115621)\n"
     ]
    }
   ],
   "source": [
    "n_times = [10, 100, 1000, 10000, 100000]\n",
    "for n in n_times:\n",
    "    outputs = generate_unbiased_coin(n_times = n)\n",
    "    probs = outputs.count(1) / len(outputs), outputs.count(0) / len(outputs)\n",
    "    print(probs)"
   ]
  },
  {
   "cell_type": "markdown",
   "id": "111196b3",
   "metadata": {},
   "source": [
    "### Make a fair dice using biased coin\n",
    "\n",
    "```\n",
    "3 Rolls:\n",
    "HHH -> 0.216\n",
    "HHT -> 0.144\n",
    "HTH -> 0.144  \n",
    "HTT -> 0.096\n",
    "\n",
    "THH -> 0.144\n",
    "THT -> 0.096\n",
    "TTH -> 0.096\n",
    "TTT -> 0.064\n",
    "\n",
    "4 Rolls:\n",
    "4H -> 1\n",
    "3H, 1T -> 4C3 = 4\n",
    "2H, 2T -> 4C2 = 6\n",
    "1H, 3T -> 4C1 = 4\n",
    "4T -> 1\n",
    "\n",
    "```"
   ]
  },
  {
   "cell_type": "code",
   "execution_count": null,
   "id": "88a631d7",
   "metadata": {},
   "outputs": [],
   "source": []
  }
 ],
 "metadata": {
  "kernelspec": {
   "display_name": "Python 3 (ipykernel)",
   "language": "python",
   "name": "python3"
  },
  "language_info": {
   "codemirror_mode": {
    "name": "ipython",
    "version": 3
   },
   "file_extension": ".py",
   "mimetype": "text/x-python",
   "name": "python",
   "nbconvert_exporter": "python",
   "pygments_lexer": "ipython3",
   "version": "3.9.12"
  }
 },
 "nbformat": 4,
 "nbformat_minor": 5
}
