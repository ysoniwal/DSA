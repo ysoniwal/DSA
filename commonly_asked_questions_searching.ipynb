{
 "cells": [
  {
   "cell_type": "markdown",
   "id": "d7df717e",
   "metadata": {},
   "source": [
    "### Search insert position of K in a sorted array\n",
    "```\n",
    "Input: arr[] = {1, 3, 5, 6}, K = 5\n",
    "Output: 2\n",
    "Explanation: Since 5 is found at index 2 as arr[2] = 5, the output is 2.\n",
    "\n",
    "Input: arr[] = {1, 3, 5, 6}, K = 2\n",
    "Output: 1\n",
    "Explanation: Since 2 is not present in the array but can be inserted at index 1 to make the array sorted.\n",
    "```"
   ]
  },
  {
   "cell_type": "code",
   "execution_count": 22,
   "id": "6cbdb4ea",
   "metadata": {},
   "outputs": [],
   "source": [
    "arr = [1, 3, 5, 6]\n",
    "\n",
    "def find_insert_position(arr, left, right, k):\n",
    "    mid = int((left + right) / 2)\n",
    "    print(left, right, mid)\n",
    "        \n",
    "    if (right - left == 1) and (arr[left] < k) and (arr[right] > k):\n",
    "        return left + 1\n",
    "    \n",
    "    if arr[left] > k:\n",
    "        return left - 1\n",
    "    \n",
    "    if left == right and left == mid:\n",
    "        return left + 1\n",
    "    \n",
    "    if arr[mid] == k:\n",
    "        print(f\"Element {k} is present at {mid} position\")\n",
    "        return mid\n",
    "    \n",
    "    if arr[mid] > k:\n",
    "        return find_insert_position(arr, left, mid-1, k)\n",
    "    \n",
    "    if arr[mid] < k:\n",
    "        return find_insert_position(arr, mid+1, right, k)"
   ]
  },
  {
   "cell_type": "code",
   "execution_count": 23,
   "id": "165b8f02",
   "metadata": {
    "scrolled": false
   },
   "outputs": [
    {
     "name": "stdout",
     "output_type": "stream",
     "text": [
      "0 3 1\n",
      "2 3 2\n",
      "3 3 3\n"
     ]
    },
    {
     "data": {
      "text/plain": [
       "4"
      ]
     },
     "execution_count": 23,
     "metadata": {},
     "output_type": "execute_result"
    }
   ],
   "source": [
    "find_insert_position(arr, 0, len(arr)-1, 7)"
   ]
  },
  {
   "cell_type": "markdown",
   "id": "2d29d06f",
   "metadata": {},
   "source": [
    "### Collecting Wood\n",
    "\n",
    "Value to be subtracted from array elements to make sum of all elements equals K\n",
    "\n",
    "```\n",
    "Input: height[] = {1, 2, 1, 2}, K = 2 \n",
    "Output: 1 \n",
    "Make a cut at height 1, the updated array will be {1, 1, 1, 1} and \n",
    "the collected wood will be {0, 1, 0, 1} i.e. 0 + 1 + 0 + 1 = 2.\n",
    "\n",
    "Input: height = {1, 1, 2, 2}, K = 1 \n",
    "Output: -1  \n",
    "```"
   ]
  },
  {
   "cell_type": "code",
   "execution_count": 27,
   "id": "ef3b03ee",
   "metadata": {},
   "outputs": [],
   "source": [
    "def wood_collected_amount(arr, cut_at):\n",
    "    arr = [a - cut_at for a in arr]\n",
    "    return sum(arr)"
   ]
  },
  {
   "cell_type": "code",
   "execution_count": 32,
   "id": "8e42ae73",
   "metadata": {},
   "outputs": [
    {
     "data": {
      "text/plain": [
       "(2, -2, [1, 1, 2, 2])"
      ]
     },
     "execution_count": 32,
     "metadata": {},
     "output_type": "execute_result"
    }
   ],
   "source": [
    "arr = [1, 2, 1, 2]\n",
    "arr = sorted(arr)\n",
    "wood_collected_amount(arr, 1), wood_collected_amount(arr, 2), arr"
   ]
  },
  {
   "cell_type": "code",
   "execution_count": 41,
   "id": "3c33d5b7",
   "metadata": {},
   "outputs": [],
   "source": [
    "# min value of cut = arr[0]\n",
    "# max value of cut = arr[3]\n",
    "\n",
    "def wood_collected(arr, left, right, k):\n",
    "    \n",
    "    if left < right:\n",
    "        mid = int((left + right) / 2)\n",
    "\n",
    "        w = wood_collected_amount(arr, mid)\n",
    "\n",
    "        if w == k:\n",
    "            print(f\"Cut the trees at height {mid} to collect total {k} unit wood\")\n",
    "            return w\n",
    "        if w > k:\n",
    "            left = mid + 1\n",
    "            return wood_collected(arr, left, right, k)\n",
    "        if w < k:\n",
    "            right = mid - 1\n",
    "            return wood_collected(arr, left, right, k)\n",
    "    else:\n",
    "        print(f\"{k} units of wood cannot be collected after making cut at any height\")\n",
    "        return -1\n",
    "        "
   ]
  },
  {
   "cell_type": "code",
   "execution_count": 42,
   "id": "46748f05",
   "metadata": {},
   "outputs": [
    {
     "name": "stdout",
     "output_type": "stream",
     "text": [
      "1 units of wood cannot be collected after making cut at any height\n"
     ]
    },
    {
     "data": {
      "text/plain": [
       "-1"
      ]
     },
     "execution_count": 42,
     "metadata": {},
     "output_type": "execute_result"
    }
   ],
   "source": [
    "arr = [1, 1, 2, 2]\n",
    "left = arr[0]\n",
    "right = arr[-1]\n",
    "wood_collected(arr, left, right, 1)"
   ]
  },
  {
   "cell_type": "markdown",
   "id": "4cd0bc2b",
   "metadata": {},
   "source": [
    "### Find first and last positions of an element in a sorted array\n",
    "\n",
    "Given a sorted array with possibly duplicate elements, the task is to find indexes of first and last occurrences of an element x in the given array. \n",
    "\n",
    "```\n",
    "Input : arr[] = {1, 3, 5, 5, 5, 5, 67, 123, 125}    \n",
    "        x = 5\n",
    "Output : First Occurrence = 2\n",
    "         Last Occurrence = 5\n",
    "\n",
    "Input : arr[] = {1, 3, 5, 5, 5, 5, 7, 123, 125 }    \n",
    "        x = 7\n",
    "Output : First Occurrence = 6\n",
    "         Last Occurrence = 6\n",
    "```"
   ]
  },
  {
   "cell_type": "code",
   "execution_count": 72,
   "id": "409fb93e",
   "metadata": {},
   "outputs": [],
   "source": [
    "arr, x = [1, 3, 5, 5, 5, 5, 67, 123, 125], 5"
   ]
  },
  {
   "cell_type": "code",
   "execution_count": 73,
   "id": "f154c1d9",
   "metadata": {},
   "outputs": [],
   "source": [
    "def get_first_occurance(arr, left, right, num, leftmost):\n",
    "    \n",
    "    if left < right:\n",
    "        mid = int((left + right) / 2)\n",
    "        if arr[mid] == num:\n",
    "            if mid < leftmost:\n",
    "                leftmost = mid\n",
    "            return get_first_occurance(arr, left, mid-1, num, leftmost)\n",
    "\n",
    "        if arr[mid] > num: \n",
    "            return get_first_occurance(arr, left, mid-1, num, leftmost)\n",
    "\n",
    "        if arr[mid] < num:\n",
    "            return get_first_occurance(arr, mid+1, right, num, leftmost)    \n",
    "    else:\n",
    "        if arr[left] == num:\n",
    "            return left\n",
    "        elif arr[right] == num:\n",
    "            return right\n",
    "        else:\n",
    "            return leftmost"
   ]
  },
  {
   "cell_type": "code",
   "execution_count": 78,
   "id": "7c2d1ed8",
   "metadata": {},
   "outputs": [
    {
     "name": "stdout",
     "output_type": "stream",
     "text": [
      "First occurance of key 5 is 2 in the array\n"
     ]
    }
   ],
   "source": [
    "arr, x = [1, 3, 5, 5, 5, 5, 67, 123, 125], 5\n",
    "\n",
    "first_occ = get_first_occurance(arr, 0, len(arr)-1, x, 1000)\n",
    "\n",
    "if first_occ == 1000:\n",
    "    print(f\"Key not present in the array\")\n",
    "else:\n",
    "    print(f\"First occurance of key {x} is {first_occ} in the array\")"
   ]
  },
  {
   "cell_type": "code",
   "execution_count": 79,
   "id": "11f7306e",
   "metadata": {},
   "outputs": [],
   "source": [
    "def get_last_occurance(arr, left, right, num, rightmost):\n",
    "    if left < right:\n",
    "        mid = int((left + right)/2)\n",
    "        \n",
    "        if arr[mid] == num:\n",
    "            if mid > rightmost:\n",
    "                rightmost = mid\n",
    "                return get_last_occurance(arr, mid+1, right, num, rightmost)\n",
    "                \n",
    "        elif arr[mid] > num:\n",
    "            return get_last_occurance(arr, left, mid-1, num, rightmost)\n",
    "        else:\n",
    "            return get_last_occurance(arr, mid+1, right, num, rightmost)\n",
    "        \n",
    "    else:\n",
    "        if arr[left] == num:\n",
    "            return left\n",
    "        if arr[right] == num:\n",
    "            return right\n",
    "        return rightmost"
   ]
  },
  {
   "cell_type": "code",
   "execution_count": 80,
   "id": "01a57ce0",
   "metadata": {},
   "outputs": [
    {
     "name": "stdout",
     "output_type": "stream",
     "text": [
      "Last occurance of key 5 is 5 in the array\n"
     ]
    }
   ],
   "source": [
    "arr, x = [1, 3, 5, 5, 5, 5, 67, 123, 125], 5\n",
    "last_occ = get_last_occurance(arr, 0, len(arr)-1, x, -1000)\n",
    "\n",
    "if last_occ == -1000:\n",
    "    print(f\"Key not present in the array\")\n",
    "else:\n",
    "    print(f\"Last occurance of key {x} is {last_occ} in the array\")"
   ]
  },
  {
   "cell_type": "code",
   "execution_count": 88,
   "id": "fbf4b40b",
   "metadata": {},
   "outputs": [
    {
     "name": "stdout",
     "output_type": "stream",
     "text": [
      "Key 126 not present in the array\n"
     ]
    }
   ],
   "source": [
    "x = 126\n",
    "first, last = get_first_occurance(arr, 0, len(arr)-1, x, 1000), get_last_occurance(arr, 0, len(arr)-1, x, -1000)\n",
    "\n",
    "if first == 1000 and last == -1000:\n",
    "    print(f\"Key {x} not present in the array\")\n",
    "elif first == last:\n",
    "    print(f\"Key {x} is present only once in the array at {first} position\")\n",
    "else:\n",
    "    print(f\"Key {x} is present first at {first} and last at {last}\")"
   ]
  },
  {
   "cell_type": "markdown",
   "id": "d0910049",
   "metadata": {},
   "source": [
    "### Search an element in a sorted **and rotated** Array\n",
    "\n",
    "Given a sorted and rotated array arr[] of size N and a key, the task is to find the key in the array.\n",
    "\n",
    "Note: Find the element in O(logN) time and assume that all the elements are distinct.\n",
    "    \n",
    "```\n",
    "Input  : arr[] = {5, 6, 7, 8, 9, 10, 1, 2, 3}, key = 3\n",
    "Output : Found at index 8\n",
    "\n",
    "Input  : arr[] = {5, 6, 7, 8, 9, 10, 1, 2, 3}, key = 30\n",
    "Output : Not found\n",
    "\n",
    "Input : arr[] = {30, 40, 50, 10, 20}, key = 10   \n",
    "Output : Found at index 3\n",
    "```\n"
   ]
  },
  {
   "cell_type": "code",
   "execution_count": 89,
   "id": "0e6386c6",
   "metadata": {},
   "outputs": [],
   "source": [
    "#Step 1: Find the pivot element where transition happens\n",
    "#Step 2: Using index of pivot element do binary search\n",
    "\n",
    "def find_pivot_element_index(arr, left, right):\n",
    "    if left < right:\n",
    "        mid = int((left + right) / 2)\n",
    "        if arr[mid+1] < arr[mid]:\n",
    "            return mid\n",
    "        else:\n",
    "            return find_pivot_element_index(arr, mid+1, right)\n",
    "    else:\n",
    "        return -1"
   ]
  },
  {
   "cell_type": "code",
   "execution_count": 97,
   "id": "5efc4087",
   "metadata": {},
   "outputs": [
    {
     "data": {
      "text/plain": [
       "(5, [5, 6, 7, 8, 9, 10], [1, 2, 3])"
      ]
     },
     "execution_count": 97,
     "metadata": {},
     "output_type": "execute_result"
    }
   ],
   "source": [
    "arr = [5,6,7,8,9,10,1,2,3]\n",
    "arr2 = [30, 40, 50, 10, 20]\n",
    "pivot_index = find_pivot_element_index(arr, 0, len(arr) - 2)\n",
    "arr_l, arr_r = arr[:pivot_index+1], arr[pivot_index+1:]\n",
    "pivot_index, arr_l, arr_r"
   ]
  },
  {
   "cell_type": "code",
   "execution_count": 114,
   "id": "b64eacc6",
   "metadata": {},
   "outputs": [],
   "source": [
    "# Binary search in left and right arr\n",
    "def binary_search_element(arr, left, right, key):\n",
    "    if left <= right:\n",
    "        mid = int((left + right) / 2)\n",
    "        if arr[mid] == key:\n",
    "            return mid\n",
    "        elif arr[mid] < key:\n",
    "            return binary_search_element(arr, mid+1, right, key)\n",
    "        elif arr[mid] > key:\n",
    "            return binary_search_element(arr, left, mid-1, key)\n",
    "    else:\n",
    "        return -1"
   ]
  },
  {
   "cell_type": "code",
   "execution_count": 124,
   "id": "446206de",
   "metadata": {},
   "outputs": [
    {
     "name": "stdout",
     "output_type": "stream",
     "text": [
      "Key present at location 6\n"
     ]
    }
   ],
   "source": [
    "found_in_left = binary_search_element(arr_l, 0, len(arr_l) - 1, 1)\n",
    "found_in_right = binary_search_element(arr_r, 0, len(arr_r) - 1, 1)\n",
    "\n",
    "if found_in_left == -1 and found_in_right == -1:\n",
    "    print(f\"Key not present in the array\")\n",
    "elif found_in_left >= 0:\n",
    "    print(f\"Key present at location {found_in_left}\")\n",
    "else:\n",
    "    print(f\"Key present at location {found_in_right + pivot_index+1}\")"
   ]
  },
  {
   "cell_type": "markdown",
   "id": "9d3c5eb5",
   "metadata": {},
   "source": [
    "### Find elements which are present in first array and not in second\n",
    "\n",
    "```\n",
    "Input : a[] = {1, 2, 3, 4, 5, 10};\n",
    "    b[] = {2, 3, 1, 0, 5};\n",
    "Output : 4 10    \n",
    "4 and 10 are present in first array, but\n",
    "not in second array.\n",
    "\n",
    "Input : a[] = {4, 3, 5, 9, 11};\n",
    "        b[] = {4, 9, 3, 11, 10};\n",
    "Output : 5  \n",
    "```"
   ]
  },
  {
   "cell_type": "code",
   "execution_count": 128,
   "id": "ff7d7ac5",
   "metadata": {},
   "outputs": [
    {
     "data": {
      "text/plain": [
       "[4, 10]"
      ]
     },
     "execution_count": 128,
     "metadata": {},
     "output_type": "execute_result"
    }
   ],
   "source": [
    "# Pythonic way\n",
    "a = [1, 2, 3, 4, 5, 10]\n",
    "b = [2, 3, 1, 0, 5]\n",
    "\n",
    "# a = [4, 3, 5, 9, 11]\n",
    "# b = [4, 9, 3, 11, 10]\n",
    "\n",
    "result = [element for element in a if element not in b]\n",
    "result"
   ]
  },
  {
   "cell_type": "markdown",
   "id": "658a7cf7",
   "metadata": {},
   "source": [
    "### Median of 2 sorted arrays (same size): \n",
    "\n",
    "https://www.geeksforgeeks.org/median-of-two-sorted-arrays/\n",
    "\n",
    "```\n",
    "arr1 = [1, 12, 15, 26, 38]\n",
    "arr2 = [2, 13, 17, 30, 45]\n",
    "output = (15 + 17) / 2\n",
    "```"
   ]
  },
  {
   "cell_type": "markdown",
   "id": "25564c6c",
   "metadata": {},
   "source": [
    "#### Using merge part of merge sort algorithm"
   ]
  },
  {
   "cell_type": "code",
   "execution_count": 140,
   "id": "f4596707",
   "metadata": {},
   "outputs": [],
   "source": [
    "arr1 = [1, 12, 15, 26, 38]\n",
    "arr2 = [2, 13, 17, 30, 45]\n",
    "\n",
    "# Total elements = 2n\n",
    "# Median = (nth + (n+1)th) / 2\n",
    "# O(n) solution -> use merge logic to find the nth and n+1 th element\n",
    "\n",
    "def merge_and_median(arr1, arr2, n1, n2):\n",
    "    k = 0 # merged array\n",
    "    i = 0 # first array\n",
    "    j = 0 # sencond array\n",
    "    \n",
    "    mid2 = int((n1 + n2 + 2) / 2)\n",
    "    mid1 = mid2-1\n",
    "    print(mid1, mid2)\n",
    "    s = 0\n",
    "    \n",
    "    while(i < n1 and j < n2):\n",
    "        if arr1[i] <= arr2[j]:\n",
    "            if (k == mid1 or k == mid2):\n",
    "                s += arr1[i]\n",
    "            i += 1\n",
    "            k += 1\n",
    "        else:\n",
    "            if (k == mid1 or k == mid2):\n",
    "                s += arr2[j]\n",
    "            j += 1\n",
    "            k += 1\n",
    "        \n",
    "        \n",
    "    while(i < n1):\n",
    "        if (k == mid1 or k == mid2):\n",
    "            s += arr1[i]\n",
    "        i += 1\n",
    "        k += 1\n",
    "    while(j < n2):\n",
    "        if (k == mid1 or k == mid2):\n",
    "            s += arr2[j]\n",
    "        j += 1\n",
    "        k += 1\n",
    "    \n",
    "    return s / 2"
   ]
  },
  {
   "cell_type": "code",
   "execution_count": 141,
   "id": "64861f39",
   "metadata": {},
   "outputs": [
    {
     "name": "stdout",
     "output_type": "stream",
     "text": [
      "4 5\n"
     ]
    },
    {
     "data": {
      "text/plain": [
       "16.0"
      ]
     },
     "execution_count": 141,
     "metadata": {},
     "output_type": "execute_result"
    }
   ],
   "source": [
    "merge_and_median(arr1, arr2, len(arr1) - 1, len(arr2) - 1)"
   ]
  },
  {
   "cell_type": "code",
   "execution_count": 177,
   "id": "207f832e",
   "metadata": {},
   "outputs": [],
   "source": [
    "#### By comparing medians of both the array\n",
    "\n",
    "def get_median(arr, l):\n",
    "    if l % 2 == 0:\n",
    "        #l = 10 => l/2 = 5 and l/2 - 1\n",
    "        return (arr[int(l/2)] + arr[int(l/2 - 1)])/2, int(l/2)\n",
    "    else:\n",
    "        return arr[int(l/2)], int(l/2)\n",
    "\n",
    "def median_of_sorted_array(arr1, arr2, l1, l2): # l1 and l2 are sizes of the array\n",
    "    m1, n1 = get_median(arr1, l1)\n",
    "    m2, n2 = get_median(arr2, l2)\n",
    "    \n",
    "    if m1 == m2:\n",
    "        return m1\n",
    "    \n",
    "    elif l1 == 2 and l2 == 2:\n",
    "        return ((max(arr1[0], arr2[0]) + min(arr1[1], arr2[1])) / 2)\n",
    "\n",
    "    elif m1 < m2:\n",
    "        return median_of_sorted_array(arr1[n1:], arr2[:n2+1], l1-n1, l2-n2)\n",
    "    else:\n",
    "        return median_of_sorted_array(arr1[:n1+1], arr2[n2:], l1-n1, l2-n2)\n",
    "    "
   ]
  },
  {
   "cell_type": "code",
   "execution_count": 178,
   "id": "7fd9b523",
   "metadata": {},
   "outputs": [
    {
     "data": {
      "text/plain": [
       "16.0"
      ]
     },
     "execution_count": 178,
     "metadata": {},
     "output_type": "execute_result"
    }
   ],
   "source": [
    "median_of_sorted_array(arr1, arr2, 5, 5)"
   ]
  },
  {
   "cell_type": "markdown",
   "id": "379174cb",
   "metadata": {},
   "source": [
    "### Count the number of possible triangles\n",
    "\n",
    "```\n",
    "Input: arr= {4, 6, 3, 7}\n",
    "Output: 3\n",
    "Explanation: There are three triangles \n",
    "possible {3, 4, 6}, {4, 6, 7} and {3, 6, 7}. \n",
    "Note that {3, 4, 7} is not a possible triangle.  \n",
    "\n",
    "Input: arr= {10, 21, 22, 100, 101, 200, 300}.\n",
    "Output: 6\n",
    "\n",
    "Explanation: There can be 6 possible triangles:\n",
    "{10, 21, 22}, {21, 100, 101}, {22, 100, 101}, \n",
    "{10, 100, 101}, {100, 101, 200} and {101, 200, 300}\n",
    "```"
   ]
  },
  {
   "cell_type": "code",
   "execution_count": 187,
   "id": "9a8fd468",
   "metadata": {},
   "outputs": [
    {
     "name": "stdout",
     "output_type": "stream",
     "text": [
      "10 21 22\n",
      "10 100 101\n",
      "21 100 101\n",
      "22 100 101\n",
      "100 101 200\n",
      "101 200 300\n",
      "Total possible traingles: 6\n"
     ]
    }
   ],
   "source": [
    "arr2 = [4, 6, 3, 7]\n",
    "arr1 = [10, 21, 22, 100, 101, 200, 300]\n",
    "\n",
    "arr = arr1\n",
    "\n",
    "def is_triangle(a, b, c):\n",
    "    if a+b > c and a+c > b and b+c > a:\n",
    "        return 1\n",
    "    else:\n",
    "        return 0\n",
    "\n",
    "#is_triangle(10, 21, 100)\n",
    "\n",
    "arr1 = sorted(arr1)\n",
    "count = 0\n",
    "for i in range(len(arr1)-2):\n",
    "    for j in range(i+1, len(arr1)-1):\n",
    "        if is_triangle(arr1[i], arr1[j], arr1[j+1]):\n",
    "            print(arr1[i], arr1[j], arr1[j+1])\n",
    "            count += 1\n",
    "\n",
    "print(f\"Total possible traingles: {count}\")"
   ]
  },
  {
   "cell_type": "code",
   "execution_count": 183,
   "id": "6c21069d",
   "metadata": {},
   "outputs": [
    {
     "data": {
      "text/plain": [
       "[3, 4, 6, 7]"
      ]
     },
     "execution_count": 183,
     "metadata": {},
     "output_type": "execute_result"
    }
   ],
   "source": [
    "arr1"
   ]
  },
  {
   "cell_type": "markdown",
   "id": "4e833ee5",
   "metadata": {},
   "source": [
    "### Given an array arr[], find the maximum j – i such that arr[j] > arr[i]\n",
    "\n",
    "```\n",
    "Input: {34, 8, 10, 3, 2, 80, 30, 33, 1}\n",
    "Output: 6  (j = 7, i = 1)\n",
    "\n",
    "Input: {9, 2, 3, 4, 5, 6, 7, 8, 18, 0}\n",
    "Output: 8 ( j = 8, i = 0)\n",
    "\n",
    "Input:  {1, 2, 3, 4, 5, 6}\n",
    "Output: 5  (j = 5, i = 0)\n",
    "\n",
    "Input:  {6, 5, 4, 3, 2, 1}\n",
    "Output: -1 \n",
    "```"
   ]
  },
  {
   "cell_type": "code",
   "execution_count": 190,
   "id": "239f6835",
   "metadata": {},
   "outputs": [
    {
     "name": "stdout",
     "output_type": "stream",
     "text": [
      "-1\n"
     ]
    }
   ],
   "source": [
    "#arr = [34, 8, 10, 3, 2, 80, 30, 33, 1]\n",
    "#arr = [9, 2, 3, 4, 5, 6, 7, 8, 18, 0]\n",
    "arr = [6, 5, 4, 3, 2, 1]\n",
    "\n",
    "overall_farthest = -1\n",
    "for i in range(len(arr)):\n",
    "    current_farthest = -1\n",
    "    for j in range(i+1, len(arr)):\n",
    "        if arr[i] < arr[j] and j-i > current_farthest:\n",
    "            current_farthest = j-i\n",
    "    if current_farthest > overall_farthest:\n",
    "        overall_farthest = current_farthest\n",
    "print(overall_farthest)"
   ]
  },
  {
   "cell_type": "markdown",
   "id": "8e5c58bd",
   "metadata": {},
   "source": [
    "### Patanthesis checker\n",
    "\n",
    "Check for Balanced Brackets in an expression (well-formedness) using Stack\n",
    "\n",
    "```\n",
    "Input: exp = “[()]{}{[()()]()}” \n",
    "Output: Balanced\n",
    "Explanation: all the brackets are well-formed\n",
    "\n",
    "Input: exp = “[(])” \n",
    "Output: Not Balanced \n",
    "Explanation: 1 and 4 brackets are not well formed\n",
    "```"
   ]
  },
  {
   "cell_type": "code",
   "execution_count": 229,
   "id": "7c262a73",
   "metadata": {},
   "outputs": [],
   "source": [
    "#input_exp = \"[()]{}{[()()]()}\"\n",
    "input_exp = \"[(])\"\n",
    "\n",
    "# Put in stack\n",
    "# if openning bracket -> push\n",
    "# if closing bracket -> pop => if matching keep going. If not match => unbalanced\n",
    "# if reach end and stack is empty => balanced\n",
    "\n"
   ]
  },
  {
   "cell_type": "code",
   "execution_count": 223,
   "id": "d60bacf3",
   "metadata": {},
   "outputs": [],
   "source": [
    "def is_opening(s):\n",
    "    if s == \"{\" or s == \"[\" or s == \"(\":\n",
    "        return 1\n",
    "    else:\n",
    "        return 0\n",
    "def is_closing(s):\n",
    "    if s == \"}\" or s == \"]\" or s == \")\":\n",
    "        return 1\n",
    "    else: \n",
    "        return 0\n",
    "\n",
    "def is_empty(stack):\n",
    "    if stack[\"top\"] == -1:\n",
    "        return 1\n",
    "    else:\n",
    "        return 0\n",
    "    \n",
    "def is_full(stack):\n",
    "    if stack[\"top\"] >= 100:\n",
    "        return 1\n",
    "    else: \n",
    "        return 0\n",
    "\n",
    "def push(stack, ele):\n",
    "    stack[\"top\"] = stack[\"top\"] + 1\n",
    "    stack[\"arr\"][stack[\"top\"]] = ele\n",
    "\n",
    "def pop(stack):\n",
    "    if ~(is_empty(stack)):\n",
    "        ele = stack[\"arr\"][stack[\"top\"]]\n",
    "        stack[\"top\"] = stack[\"top\"] - 1\n",
    "        return ele\n",
    "    else:\n",
    "        print(f\"cannot pop from empty stack\")\n",
    "        return \"-1\"\n",
    "\n",
    "def is_matching(popped, element):\n",
    "    if (popped == \"(\" and element == \")\") or (popped == \"[\" and element == \"]\") or (popped == \"{\" and element == \"}\"):\n",
    "        return 1\n",
    "    else:\n",
    "        return 0"
   ]
  },
  {
   "cell_type": "code",
   "execution_count": 230,
   "id": "10fe63a5",
   "metadata": {},
   "outputs": [
    {
     "data": {
      "text/plain": [
       "'[(])'"
      ]
     },
     "execution_count": 230,
     "metadata": {},
     "output_type": "execute_result"
    }
   ],
   "source": [
    "input_exp"
   ]
  },
  {
   "cell_type": "code",
   "execution_count": 231,
   "id": "7e956b10",
   "metadata": {},
   "outputs": [
    {
     "name": "stdout",
     "output_type": "stream",
     "text": [
      "Unbalanced\n",
      "Unbalanced\n"
     ]
    }
   ],
   "source": [
    "stack = {\"top\": -1, \"arr\": [\"\"]*100}\n",
    "for element in input_exp:\n",
    "    if is_opening(element):\n",
    "        push(stack, element)\n",
    "    else:\n",
    "        popped = pop(stack)        \n",
    "        if not is_matching(popped, element):\n",
    "            print(\"Unbalanced\")\n",
    "            break\n",
    "if(is_empty(stack)):\n",
    "    print(\"Balanced\")\n",
    "else:\n",
    "    print(\"Unbalanced\")"
   ]
  },
  {
   "cell_type": "code",
   "execution_count": null,
   "id": "06d96517",
   "metadata": {},
   "outputs": [],
   "source": []
  }
 ],
 "metadata": {
  "kernelspec": {
   "display_name": "Python 3 (ipykernel)",
   "language": "python",
   "name": "python3"
  },
  "language_info": {
   "codemirror_mode": {
    "name": "ipython",
    "version": 3
   },
   "file_extension": ".py",
   "mimetype": "text/x-python",
   "name": "python",
   "nbconvert_exporter": "python",
   "pygments_lexer": "ipython3",
   "version": "3.9.12"
  }
 },
 "nbformat": 4,
 "nbformat_minor": 5
}
