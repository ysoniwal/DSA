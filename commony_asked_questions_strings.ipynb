{
 "cells": [
  {
   "cell_type": "markdown",
   "id": "2b906443",
   "metadata": {},
   "source": [
    "### Reverse words in a given string\n",
    "Let the input string be “i like this program very much”. The function should change the string to “much very program this like i”"
   ]
  },
  {
   "cell_type": "code",
   "execution_count": 13,
   "id": "d522e83a",
   "metadata": {},
   "outputs": [
    {
     "data": {
      "text/plain": [
       "'much very program this like i'"
      ]
     },
     "execution_count": 13,
     "metadata": {},
     "output_type": "execute_result"
    }
   ],
   "source": [
    "str = \"i like this program very much\"\n",
    "\n",
    "str = str.split(\" \")\n",
    "str = str[::-1]\n",
    "str = \" \".join(str)\n",
    "str"
   ]
  },
  {
   "cell_type": "code",
   "execution_count": 18,
   "id": "ccccf3ef",
   "metadata": {},
   "outputs": [
    {
     "data": {
      "text/plain": [
       "'much very program this like i'"
      ]
     },
     "execution_count": 18,
     "metadata": {},
     "output_type": "execute_result"
    }
   ],
   "source": [
    "str = \"i like this program very much\"\n",
    "\n",
    "str = str.split(\" \")\n",
    "import numpy as np\n",
    "indices = list(np.arange(-1, -(len(str)+1), -1))\n",
    "\n",
    "str = [str[ind] for ind in indices]\n",
    "str = \" \".join(str)\n",
    "str"
   ]
  },
  {
   "cell_type": "markdown",
   "id": "a84da948",
   "metadata": {},
   "source": [
    "### Longest Common Prefix using Word by Word Matching\n",
    "Input  : {“geeksforgeeks”, “geeks”, “geek”, “geezer”}\n",
    "Output : \"gee\"\n",
    "\n",
    "Input  : {\"apple\", \"ape\", \"april\"}\n",
    "Output : \"ap\""
   ]
  },
  {
   "cell_type": "code",
   "execution_count": 39,
   "id": "d0c634d7",
   "metadata": {},
   "outputs": [
    {
     "name": "stdout",
     "output_type": "stream",
     "text": [
      "Longest common substring = ap with length of 2\n"
     ]
    }
   ],
   "source": [
    "#inputs = [\"geeksforgeeks\", \"geeks\", \"geek\", \"geezer\"]\n",
    "inputs = [\"apple\", \"ape\", \"april\"]\n",
    "\n",
    "lens = [len(i) for i in inputs]\n",
    "min_len = min(lens)\n",
    "\n",
    "long_substr = \"\"\n",
    "for i in range(min_len):\n",
    "    substr = inputs[0][0:i+1]\n",
    "    count = 0\n",
    "    for str in inputs:\n",
    "        if str.startswith(substr):\n",
    "            count += 1\n",
    "    if count == len(inputs):\n",
    "        long_substr = substr\n",
    "    else:\n",
    "        break\n",
    "\n",
    "print(f\"Longest common substring = {long_substr} with length of {len(long_substr)}\") "
   ]
  },
  {
   "cell_type": "markdown",
   "id": "15331392",
   "metadata": {},
   "source": [
    "### Converting Roman Numerals to Decimal lying between 1 to 3999\n",
    "\n",
    "SYMBOL       VALUE\n",
    "1.  I            1\n",
    "2.  IV           4\n",
    "3.  V            5\n",
    "4.  IX           9\n",
    "5.  X            10\n",
    "6.  XL           40\n",
    "7.  L            50\n",
    "8.  XC           90\n",
    "9.  C            100\n",
    "10.  CD           400\n",
    "11.  D            500\n",
    "12.  CM           900 \n",
    "13.M            1000"
   ]
  },
  {
   "cell_type": "code",
   "execution_count": 40,
   "id": "a8e9bc06",
   "metadata": {},
   "outputs": [],
   "source": [
    "roman_to_int_mapping = {\n",
    "    \"I\": 1,\n",
    "    \"V\": 5,\n",
    "    \"X\": 10,\n",
    "    \"L\": 50,\n",
    "    \"C\": 100,\n",
    "    \"D\": 500,\n",
    "    \"M\": 1000\n",
    "}"
   ]
  },
  {
   "cell_type": "code",
   "execution_count": 41,
   "id": "70af3fa7",
   "metadata": {},
   "outputs": [
    {
     "data": {
      "text/plain": [
       "1000"
      ]
     },
     "execution_count": 41,
     "metadata": {},
     "output_type": "execute_result"
    }
   ],
   "source": [
    "roman_to_int_mapping[\"M\"]"
   ]
  },
  {
   "cell_type": "code",
   "execution_count": 72,
   "id": "a8ee6c61",
   "metadata": {},
   "outputs": [],
   "source": [
    "inputs = [\"IX\", \"XL\", \"I\", \"II\", \"III\", \"IV\", \"V\", \"IIX\", \"XII\"]"
   ]
  },
  {
   "cell_type": "code",
   "execution_count": 73,
   "id": "98df5639",
   "metadata": {},
   "outputs": [],
   "source": [
    "def convert_to_int(max_int_val, pos_max_val, roman):\n",
    "    number_to_add = 0\n",
    "    number_to_sub = 0\n",
    "    base_number = max_int_val\n",
    "\n",
    "    for i in range(pos_max_val):\n",
    "        number_to_sub = number_to_sub + roman_to_int_mapping[roman[i]]\n",
    "\n",
    "    for i in range(pos_max_val+1, len(roman)):\n",
    "        number_to_add = number_to_add + roman_to_int_mapping[roman[i]]\n",
    "\n",
    "    return base_number - number_to_sub + number_to_add"
   ]
  },
  {
   "cell_type": "code",
   "execution_count": 74,
   "id": "89742347",
   "metadata": {},
   "outputs": [
    {
     "name": "stdout",
     "output_type": "stream",
     "text": [
      "Roman: IX\tInteger: 9\n",
      "Roman: XL\tInteger: 40\n",
      "Roman: I\tInteger: 1\n",
      "Roman: II\tInteger: 2\n",
      "Roman: III\tInteger: 3\n",
      "Roman: IV\tInteger: 4\n",
      "Roman: V\tInteger: 5\n",
      "Roman: IIX\tInteger: 8\n",
      "Roman: XII\tInteger: 12\n"
     ]
    }
   ],
   "source": [
    "int_converted = []\n",
    "for roman in inputs:\n",
    "    max_int_val = 1\n",
    "    max_rom_val = \"I\"\n",
    "    pos_max_val = 0\n",
    "    for j, i in enumerate(roman):\n",
    "        to_int = roman_to_int_mapping[i]\n",
    "        if to_int > max_int_val:\n",
    "            max_int_val = to_int\n",
    "            max_rom_val = i\n",
    "            pos_max_val = j\n",
    "            \n",
    "    int_converted.append(convert_to_int(max_int_val, pos_max_val, roman))\n",
    "\n",
    "for i, roman in enumerate(inputs):\n",
    "    print(f\"Roman: {roman}\\tInteger: {int_converted[i]}\")"
   ]
  },
  {
   "cell_type": "markdown",
   "id": "d44a7ea8",
   "metadata": {},
   "source": [
    "### Longest prefix which is also suffix\n",
    "\n",
    "Input : aabcdaabc\n",
    "\n",
    "Output : 4\n",
    "\n",
    "The string \"aabc\" is the longest prefix which is also suffix.\n",
    "\n",
    "Input : abcab\n",
    "\n",
    "Output : 2\n",
    "\n",
    "Input : aaaa\n",
    "\n",
    "Output : 2"
   ]
  },
  {
   "cell_type": "code",
   "execution_count": 75,
   "id": "83827a7d",
   "metadata": {},
   "outputs": [],
   "source": [
    "strings = [\"aabcdaabc\", \"abcab\", \"aaaa\"]"
   ]
  },
  {
   "cell_type": "code",
   "execution_count": 82,
   "id": "8ba965c9",
   "metadata": {},
   "outputs": [
    {
     "name": "stdout",
     "output_type": "stream",
     "text": [
      "String: \"aabcdaabc\"\t Longest suffix which is also a prefix is \t \"aabc\"\n",
      "String: \"abcab\"\t Longest suffix which is also a prefix is \t \"ab\"\n",
      "String: \"aaaa\"\t Longest suffix which is also a prefix is \t \"aa\"\n"
     ]
    }
   ],
   "source": [
    "for str in strings:\n",
    "    l = len(str)\n",
    "    m = int(l / 2)\n",
    "    \n",
    "    longest_prefix = ''\n",
    "    l_longest_prefix = 0\n",
    "    \n",
    "    for end_index in range(m, 0, -1):\n",
    "        temp_prefix = str[0:end_index]\n",
    "        l_temp_prefix = len(temp_prefix)\n",
    "        \n",
    "        if (str.endswith(temp_prefix) and l_temp_prefix > l_longest_prefix):\n",
    "            longest_prefix = temp_prefix\n",
    "            l_longest_prefix = l_temp_prefix\n",
    "    print(f\"String: \\\"{str}\\\"\\t Longest suffix which is also a prefix is \\t \\\"{longest_prefix}\\\"\")"
   ]
  },
  {
   "cell_type": "markdown",
   "id": "6b51647a",
   "metadata": {},
   "source": [
    "### Look-and-Say Sequence\n",
    "\n",
    "Find the n’th term in Look-and-say (Or Count and Say) Sequence. The look-and-say sequence is the sequence of the below integers: \n",
    "\n",
    "1, 11, 21, 1211, 111221, 312211, 13112221, 1113213211, … "
   ]
  },
  {
   "cell_type": "code",
   "execution_count": 94,
   "id": "304f5461",
   "metadata": {},
   "outputs": [],
   "source": [
    "def read_a_number(num):\n",
    "    read = []\n",
    "    str_num = \"% s\" % num\n",
    "    \n",
    "    count = 1\n",
    "    cur_num = str_num[0]\n",
    "    \n",
    "    for i in range(1, len(str_num)):\n",
    "        if cur_num != str_num[i]:\n",
    "            read.append((count, cur_num))\n",
    "            count = 1\n",
    "            cur_num = str_num[i]\n",
    "        else:\n",
    "            count += 1\n",
    "    read.append((count, cur_num))\n",
    "    return read"
   ]
  },
  {
   "cell_type": "code",
   "execution_count": 107,
   "id": "86c290cd",
   "metadata": {},
   "outputs": [
    {
     "data": {
      "text/plain": [
       "[(3, '1'), (2, '2'), (1, '1')]"
      ]
     },
     "execution_count": 107,
     "metadata": {},
     "output_type": "execute_result"
    }
   ],
   "source": [
    "read_number = read_a_number(111221)\n",
    "read_number"
   ]
  },
  {
   "cell_type": "code",
   "execution_count": 108,
   "id": "cb23d214",
   "metadata": {},
   "outputs": [],
   "source": [
    "def generate_number_using_read_number(read_tuple):\n",
    "    result = []\n",
    "    for count, num in read_tuple:\n",
    "        count = \"% s\" % count\n",
    "        result.append(count)\n",
    "        result.append(num)\n",
    "    return result"
   ]
  },
  {
   "cell_type": "code",
   "execution_count": 109,
   "id": "07c3f77a",
   "metadata": {},
   "outputs": [
    {
     "data": {
      "text/plain": [
       "['3', '1', '2', '2', '1', '1']"
      ]
     },
     "execution_count": 109,
     "metadata": {},
     "output_type": "execute_result"
    }
   ],
   "source": [
    "result = generate_number_using_read_number(read_number)\n",
    "result"
   ]
  },
  {
   "cell_type": "code",
   "execution_count": 110,
   "id": "7a77acd1",
   "metadata": {},
   "outputs": [],
   "source": [
    "def convert_list_to_number(list_num):\n",
    "    list_num = [\"% s\" % num for num in list_num]\n",
    "    list_num = \"\".join(list_num)\n",
    "    return int(list_num)"
   ]
  },
  {
   "cell_type": "code",
   "execution_count": 111,
   "id": "aa60ed31",
   "metadata": {},
   "outputs": [
    {
     "data": {
      "text/plain": [
       "312211"
      ]
     },
     "execution_count": 111,
     "metadata": {},
     "output_type": "execute_result"
    }
   ],
   "source": [
    "convert_list_to_number(result)"
   ]
  },
  {
   "cell_type": "code",
   "execution_count": 113,
   "id": "4ae7687b",
   "metadata": {},
   "outputs": [
    {
     "name": "stdout",
     "output_type": "stream",
     "text": [
      "Initial number: 1\n",
      "Next number in the sequence: 11\n",
      "Next number in the sequence: 21\n",
      "Next number in the sequence: 1211\n",
      "Next number in the sequence: 111221\n",
      "Next number in the sequence: 312211\n",
      "Next number in the sequence: 13112221\n",
      "Next number in the sequence: 1113213211\n",
      "Next number in the sequence: 31131211131221\n",
      "Next number in the sequence: 13211311123113112211\n",
      "Next number in the sequence: 11131221133112132113212221\n"
     ]
    }
   ],
   "source": [
    "current_number = 1\n",
    "look_and_say = 10\n",
    "\n",
    "print(f\"Initial number: {current_number}\")\n",
    "for i in range(look_and_say):\n",
    "    read_number = read_a_number(current_number)\n",
    "    result = generate_number_using_read_number(read_number)\n",
    "    current_number = convert_list_to_number(result)\n",
    "    print(f\"Next number in the sequence: {current_number}\")"
   ]
  },
  {
   "cell_type": "code",
   "execution_count": null,
   "id": "7e67ea71",
   "metadata": {},
   "outputs": [],
   "source": []
  }
 ],
 "metadata": {
  "kernelspec": {
   "display_name": "Python 3 (ipykernel)",
   "language": "python",
   "name": "python3"
  },
  "language_info": {
   "codemirror_mode": {
    "name": "ipython",
    "version": 3
   },
   "file_extension": ".py",
   "mimetype": "text/x-python",
   "name": "python",
   "nbconvert_exporter": "python",
   "pygments_lexer": "ipython3",
   "version": "3.9.12"
  }
 },
 "nbformat": 4,
 "nbformat_minor": 5
}
